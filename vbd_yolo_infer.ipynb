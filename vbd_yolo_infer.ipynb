{
 "cells": [
  {
   "cell_type": "code",
   "execution_count": null,
   "metadata": {},
   "outputs": [],
   "source": [
    "import os\n",
    "import shutil\n",
    "import yaml\n",
    "import time\n",
    "import json\n",
    "import random\n",
    "import numpy as np\n",
    "import pandas as pd\n",
    "from glob import glob\n",
    "import matplotlib.pyplot as plt\n",
    "from sklearn.model_selection import GroupKFold\n",
    "import seaborn as sns\n",
    "import torch\n",
    "from IPython.display import Image, clear_output\n",
    "from PIL import Image\n",
    "from tqdm.auto import tqdm\n",
    "import pydicom\n",
    "from pydicom.pixel_data_handlers.util import apply_voi_lut\n",
    "os.environ['CUDA_VISIBLE_DEVICES'] = '0'"
   ]
  },
  {
   "cell_type": "code",
   "execution_count": null,
   "metadata": {},
   "outputs": [],
   "source": [
    "KAGGLE = False\n",
    "VER = 'v4'\n",
    "if KAGGLE:\n",
    "    DATA_PATH = '/kaggle/input/vinbigdata-chest-xray-abnormalities-detection'\n",
    "    MDLS_PATH = f'/kaggle/input/vinbigdata-models-{VER}'\n",
    "    CACHE_PATH = '/kaggle/working/cache'\n",
    "    YOLO_DIR = '/kaggle/working/yolov5'\n",
    "    SUBM_DIR = '/kaggle/working'\n",
    "    shutil.copytree(\n",
    "        '/kaggle/input/yolov5-official-v31-dataset/yolov5', \n",
    "        YOLO_DIR\n",
    "    )\n",
    "else:\n",
    "    DATA_PATH = '/u01/mrorange/vinbigdata/data'\n",
    "    MDLS_PATH = f'/u01/mrorange/vinbigdata/models_{VER}'\n",
    "    CACHE_PATH = f'{DATA_PATH}/working/cache'\n",
    "    YOLO_DIR = f'{DATA_PATH}/working/yolov5'\n",
    "    SUBM_DIR = '/u01/mrorange/vinbigdata'\n",
    "os.chdir(YOLO_DIR)\n",
    "TEST_PATH = f'{DATA_PATH}/test/'\n",
    "THRESHOLD = .5\n",
    "with open(f'{MDLS_PATH}/params.json') as file:\n",
    "    params = json.load(file)\n",
    "print('loaded params:', params)\n",
    "SIZE = params['img_size']\n",
    "\n",
    "start_time = time.time()"
   ]
  },
  {
   "cell_type": "code",
   "execution_count": null,
   "metadata": {},
   "outputs": [],
   "source": [
    "def read_xray(path, voi_lut=True, fix_monochrome=True):\n",
    "    dicom = pydicom.read_file(path)\n",
    "    # VOI LUT (if available by DICOM device) is used to transform raw DICOM data to \n",
    "    # \"human-friendly\" view\n",
    "    if voi_lut:\n",
    "        data = apply_voi_lut(dicom.pixel_array, dicom)\n",
    "    else:\n",
    "        data = dicom.pixel_array        \n",
    "    # depending on this value, X-ray may look inverted - fix that:\n",
    "    if fix_monochrome and dicom.PhotometricInterpretation == \"MONOCHROME1\":\n",
    "        data = np.amax(data) - data\n",
    "    data = data - np.min(data)\n",
    "    data = data / np.max(data)\n",
    "    data = (data * 255).astype(np.uint8) \n",
    "    return data\n",
    "\n",
    "def resize(array, size, keep_ratio=False, resample=Image.LANCZOS):\n",
    "    img = Image.fromarray(array)\n",
    "    if keep_ratio:\n",
    "        img.thumbnail((size, size), resample)\n",
    "    else:\n",
    "        img = img.resize((size, size), resample)\n",
    "    return img\n",
    "\n",
    "def yolo2voc(image_height, image_width, bboxes):\n",
    "    \"\"\"\n",
    "    yolo => [xmid, ymid, w, h] (normalized)\n",
    "    voc  => [x1, y1, x2, y1]\n",
    "    \"\"\" \n",
    "    bboxes = bboxes.copy().astype(float) # otherwise all value will be 0 as voc_pascal dtype is np.int\n",
    "    bboxes[..., [0, 2]] = bboxes[..., [0, 2]] * image_width\n",
    "    bboxes[..., [1, 3]] = bboxes[..., [1, 3]] * image_height\n",
    "    bboxes[..., [0, 1]] = bboxes[..., [0, 1]] - bboxes[..., [2, 3]] / 2\n",
    "    bboxes[..., [2, 3]] = bboxes[..., [0, 1]] + bboxes[..., [2, 3]]\n",
    "    return bboxes"
   ]
  },
  {
   "cell_type": "code",
   "execution_count": null,
   "metadata": {},
   "outputs": [],
   "source": [
    "image_id = []\n",
    "dim0 = []\n",
    "dim1 = []\n",
    "os.makedirs(CACHE_PATH, exist_ok=True)\n",
    "\n",
    "for file in tqdm(os.listdir(TEST_PATH)):\n",
    "    xray = read_xray(TEST_PATH + file)\n",
    "    im = resize(xray, size=SIZE) # keep_ratio=True to have original aspect ratio\n",
    "    im.save(CACHE_PATH + '/' + file.replace('dicom', 'png'))\n",
    "    image_id.append(file.replace('.dicom', ''))\n",
    "    dim0.append(xray.shape[0])\n",
    "    dim1.append(xray.shape[1])\n",
    "df = pd.DataFrame.from_dict({'image_id': image_id, 'dim0': dim0, 'dim1': dim1})\n",
    "\n",
    "elapsed_time = time.time() - start_time\n",
    "print(f'time elapsed: {elapsed_time // 60:.0f} min {elapsed_time % 60:.0f} sec')"
   ]
  },
  {
   "cell_type": "code",
   "execution_count": null,
   "metadata": {},
   "outputs": [],
   "source": [
    "!/opt/anaconda3/envs/orange/bin/python detect.py --weights $MDLS_PATH/best.pt \\\n",
    "--img 640 \\\n",
    "--conf 0.15 \\\n",
    "--iou 0.4 \\\n",
    "--source $CACHE_PATH \\\n",
    "--save-txt --save-conf --exist-ok"
   ]
  },
  {
   "cell_type": "code",
   "execution_count": null,
   "metadata": {},
   "outputs": [],
   "source": [
    "elapsed_time = time.time() - start_time\n",
    "print(f'time elapsed: {elapsed_time // 60:.0f} min {elapsed_time % 60:.0f} sec')"
   ]
  },
  {
   "cell_type": "code",
   "execution_count": null,
   "metadata": {},
   "outputs": [],
   "source": [
    "image_ids = []\n",
    "pred_strings = []\n",
    "for file_path in tqdm(glob(f'{YOLO_DIR}/runs/detect/exp/labels/*txt')):\n",
    "    image_id = file_path.split('/')[-1].split('.')[0]\n",
    "    w, h = df.loc[df.image_id == image_id, ['dim1', 'dim0']].values[0]\n",
    "    with open(file_path, 'r') as file:\n",
    "        data = np.array(\n",
    "            file.read().replace('\\n', ' ').strip().split(' ')\n",
    "        ).astype(np.float32).reshape(-1, 6)\n",
    "    data = data[:, [0, 5, 1, 2, 3, 4]]\n",
    "    bboxes = list(\n",
    "        np.round(\n",
    "            np.concatenate(\n",
    "                (\n",
    "                    data[:, :2], \n",
    "                    np.round(yolo2voc(h, w, data[:, 2:]))\n",
    "                ), axis=1\n",
    "            ).reshape(-1), 1\n",
    "        ).astype(str)\n",
    "    )\n",
    "    for idx in range(len(bboxes)):\n",
    "        bboxes[idx] = str(int(float(bboxes[idx]))) if (idx % 6) != 1 else bboxes[idx]\n",
    "    image_ids.append(image_id)\n",
    "    pred_strings.append(' '.join(bboxes))\n",
    "    \n",
    "elapsed_time = time.time() - start_time\n",
    "print(f'time elapsed: {elapsed_time // 60:.0f} min {elapsed_time % 60:.0f} sec')"
   ]
  },
  {
   "cell_type": "code",
   "execution_count": null,
   "metadata": {},
   "outputs": [],
   "source": [
    "os.chdir(SUBM_DIR)\n",
    "shutil.rmtree(CACHE_PATH)\n",
    "if KAGGLE:\n",
    "    shutil.rmtree(YOLO_DIR)\n",
    "print('temp folders deleted')"
   ]
  },
  {
   "cell_type": "code",
   "execution_count": null,
   "metadata": {},
   "outputs": [],
   "source": [
    "pred_df = pd.DataFrame({'image_id': image_ids,\n",
    "                        'PredictionString': pred_strings})\n",
    "subm_df = pd.merge(\n",
    "    df, \n",
    "    pred_df, \n",
    "    on='image_id', \n",
    "    how = 'left'\n",
    ").fillna('14 1 0 0 1 1')\n",
    "subm_df = subm_df[['image_id', 'PredictionString']]\n",
    "subm_df.to_csv('submission.csv', index=False)\n",
    "print('submission dataframe saved:', subm_df.shape)\n",
    "    \n",
    "elapsed_time = time.time() - start_time\n",
    "print(f'time elapsed: {elapsed_time // 60:.0f} min {elapsed_time % 60:.0f} sec')\n",
    "\n",
    "subm_df.tail()"
   ]
  },
  {
   "cell_type": "code",
   "execution_count": null,
   "metadata": {},
   "outputs": [],
   "source": []
  }
 ],
 "metadata": {
  "kernelspec": {
   "display_name": "Orange Python 3",
   "language": "python",
   "name": "orange"
  },
  "language_info": {
   "codemirror_mode": {
    "name": "ipython",
    "version": 3
   },
   "file_extension": ".py",
   "mimetype": "text/x-python",
   "name": "python",
   "nbconvert_exporter": "python",
   "pygments_lexer": "ipython3",
   "version": "3.8.3"
  }
 },
 "nbformat": 4,
 "nbformat_minor": 4
}
