{
 "cells": [
  {
   "cell_type": "code",
   "execution_count": null,
   "metadata": {},
   "outputs": [],
   "source": [
    "import os\n",
    "import shutil\n",
    "import yaml\n",
    "import time\n",
    "import json\n",
    "import cv2\n",
    "import random\n",
    "import pydicom\n",
    "from PIL import Image\n",
    "from pydicom.pixel_data_handlers.util import apply_voi_lut\n",
    "import numpy as np\n",
    "import pandas as pd\n",
    "from glob import glob\n",
    "import matplotlib.pyplot as plt\n",
    "from sklearn.model_selection import GroupKFold\n",
    "from tqdm.notebook import tqdm\n",
    "import seaborn as sns\n",
    "import torch\n",
    "from collections import Counter\n",
    "from ensemble_boxes import *\n",
    "import copy\n",
    "import os.path as osp\n",
    "import mmcv\n",
    "import numpy as np\n",
    "from mmdet.datasets.builder import DATASETS\n",
    "from mmdet.datasets.custom import CustomDataset\n",
    "from mmcv import Config\n",
    "from mmdet.apis import set_random_seed\n",
    "from mmdet.apis import inference_detector, init_detector, show_result_pyplot\n",
    "from mmdet.datasets import build_dataset\n",
    "from mmdet.models import build_detector\n",
    "from mmdet.apis import train_detector\n",
    "os.environ['CUDA_VISIBLE_DEVICES'] = '0'"
   ]
  },
  {
   "cell_type": "code",
   "execution_count": null,
   "metadata": {},
   "outputs": [],
   "source": [
    "KAGGLE = False\n",
    "TEST = True\n",
    "VER = 'v5'\n",
    "if KAGGLE:\n",
    "    DATA_PATH = '/kaggle/input/vinbigdata-chest-xray-abnormalities-detection'\n",
    "    MDLS_PATH = f'/kaggle/input/vinbigdata-mmdet-models-{VER}'\n",
    "else:\n",
    "    DATA_PATH = '/u01/mrorange/vinbigdata/data'\n",
    "    WRK_DIR = f'{DATA_PATH}/workmmd'\n",
    "    MDLS_PATH = f'/u01/mrorange/vinbigdata/models_mmdet_{VER}'\n",
    "TEST_PATH = f'{DATA_PATH}/test'\n",
    "TH = .4\n",
    "IOU_TH = .75\n",
    "with open(f'{MDLS_PATH}/params.json') as file:\n",
    "    params = json.load(file)\n",
    "print('loaded params:', params)\n",
    "SIZE = params['img_size']\n",
    "\n",
    "start_time = time.time()"
   ]
  },
  {
   "cell_type": "code",
   "execution_count": null,
   "metadata": {},
   "outputs": [],
   "source": [
    "checkpoint = f'{MDLS_PATH}/epoch_21.pth'\n",
    "cfg = f'{MDLS_PATH}/init_config.py'\n",
    "model = init_detector(cfg, checkpoint, device='cuda:0')"
   ]
  },
  {
   "cell_type": "code",
   "execution_count": null,
   "metadata": {},
   "outputs": [],
   "source": [
    "def read_xray(path, voi_lut=True, fix_monochrome=True):\n",
    "    dicom = pydicom.read_file(path)\n",
    "    # VOI LUT (if available by DICOM device) is used to transform raw DICOM data to \n",
    "    # \"human-friendly\" view\n",
    "    if voi_lut:\n",
    "        data = apply_voi_lut(dicom.pixel_array, dicom)\n",
    "    else:\n",
    "        data = dicom.pixel_array        \n",
    "    # depending on this value, X-ray may look inverted - fix that:\n",
    "    if fix_monochrome and dicom.PhotometricInterpretation == \"MONOCHROME1\":\n",
    "        data = np.amax(data) - data\n",
    "    data = data - np.min(data)\n",
    "    data = data / np.max(data)\n",
    "    data = (data * 255).astype(np.uint8) \n",
    "    return data"
   ]
  },
  {
   "cell_type": "code",
   "execution_count": null,
   "metadata": {},
   "outputs": [],
   "source": [
    "imgs_list = os.listdir(TEST_PATH)[:20] if TEST else os.listdir(TEST_PATH)\n",
    "imgs_ids = []\n",
    "pred_strings = []\n",
    "for img_name in tqdm(imgs_list):\n",
    "    img_id = img_name.split('.')[0]\n",
    "    path = f'{TEST_PATH}/{img_name}'\n",
    "    xray = read_xray(path)\n",
    "    img = cv2.cvtColor(xray, cv2.COLOR_GRAY2RGB)\n",
    "    result = inference_detector(model, img)\n",
    "    if False:\n",
    "        show_result_pyplot(model, img, result, score_thr=TH)\n",
    "    boxes_list = [x[:, :4].tolist() for x in result if x.shape[0] != 0]\n",
    "    boxes_list = [item for sublist in boxes_list for item in sublist]\n",
    "    boxes_list = [[x[0] / img.shape[1], x[1] / img.shape[0],\n",
    "                   x[2] / img.shape[1], x[3] / img.shape[0]] \n",
    "                  for x in boxes_list]\n",
    "    scores_list = [x[:, 4].tolist() for x in result if x.shape[0] != 0]\n",
    "    scores_list =  [item for sublist in scores_list for item in sublist]\n",
    "    labels_list = [[i] * x.shape[0] for i, x in enumerate(result) if x.shape[0] != 0]\n",
    "    labels_list =  [item for sublist in labels_list for item in sublist]\n",
    "    boxes, scores, box_labels = nms(\n",
    "        boxes=[boxes_list], \n",
    "        scores=[scores_list], \n",
    "        labels=[labels_list], \n",
    "        weights=None,\n",
    "        iou_thr=IOU_TH\n",
    "    )\n",
    "    boxes = [[x[0] * img.shape[1], x[1] * img.shape[0],\n",
    "              x[2] * img.shape[1], x[3] * img.shape[0]] \n",
    "             for x in boxes_list]\n",
    "    bboxes = []\n",
    "    for label_id, box, score in zip(box_labels, boxes, scores):\n",
    "        if score >= TH:\n",
    "            bboxes.append(' '.join([\n",
    "                str(label_id),\n",
    "                str(np.round(score, 1)),\n",
    "                ' '.join([str(int(x)) for x in box])\n",
    "            ]))\n",
    "    imgs_ids.append(img_id)\n",
    "    pred_strings.append(' '.join(bboxes) if len(bboxes) > 0 else '14 1 0 0 1 1')\n",
    "\n",
    "elapsed_time = time.time() - start_time\n",
    "print(f'time elapsed: {elapsed_time // 60:.0f} min {elapsed_time % 60:.0f} sec')"
   ]
  },
  {
   "cell_type": "code",
   "execution_count": null,
   "metadata": {},
   "outputs": [],
   "source": [
    "subm_df = pd.DataFrame({'image_id': imgs_ids, 'PredictionString': pred_strings})\n",
    "subm_df.to_csv('submission.csv', index=False)\n",
    "print('submission dataframe saved:', subm_df.shape)\n",
    "subm_df.tail()"
   ]
  },
  {
   "cell_type": "code",
   "execution_count": null,
   "metadata": {},
   "outputs": [],
   "source": []
  }
 ],
 "metadata": {
  "kernelspec": {
   "display_name": "Orange Python 3",
   "language": "python",
   "name": "orange"
  },
  "language_info": {
   "codemirror_mode": {
    "name": "ipython",
    "version": 3
   },
   "file_extension": ".py",
   "mimetype": "text/x-python",
   "name": "python",
   "nbconvert_exporter": "python",
   "pygments_lexer": "ipython3",
   "version": "3.8.3"
  }
 },
 "nbformat": 4,
 "nbformat_minor": 4
}
